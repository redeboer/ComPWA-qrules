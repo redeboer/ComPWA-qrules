{
 "cells": [
  {
   "cell_type": "code",
   "execution_count": null,
   "id": "industrial-edward",
   "metadata": {},
   "outputs": [],
   "source": [
    "import expertsystem as es\n",
    "import graphviz"
   ]
  },
  {
   "cell_type": "code",
   "execution_count": null,
   "id": "otherwise-overhead",
   "metadata": {},
   "outputs": [],
   "source": [
    "result = es.generate_transitions(\n",
    "    initial_state=\"D0\",\n",
    "    final_state=[\"pi0\", \"pi0\", \"K0\"],\n",
    "    mass_conservation_factor=0,\n",
    "    allowed_intermediate_particles=[\"rho(770)0\"],\n",
    ")\n",
    "len(result.transitions)"
   ]
  },
  {
   "cell_type": "code",
   "execution_count": null,
   "id": "broadband-fireplace",
   "metadata": {},
   "outputs": [],
   "source": [
    "dot = es.io.convert_to_dot(result.collapse_graphs())\n",
    "dot = es.io.convert_to_dot(result.transitions)\n",
    "graphviz.Source(dot)"
   ]
  },
  {
   "cell_type": "code",
   "execution_count": null,
   "id": "acoustic-crowd",
   "metadata": {},
   "outputs": [],
   "source": [
    "stm = es.reaction.StateTransitionManager(\n",
    "    initial_state=[\"f(0)(1710)\"],\n",
    "    final_state=[\"pi+\", \"pi+\", \"pi-\", \"pi-\"],\n",
    "    allowed_intermediate_particles=[\"f(0)(500)\"],\n",
    "    mass_conservation_factor=0,\n",
    ")"
   ]
  },
  {
   "cell_type": "code",
   "execution_count": null,
   "id": "compact-foundation",
   "metadata": {},
   "outputs": [],
   "source": [
    "from expertsystem.reaction import InteractionTypes, StateTransitionManager\n",
    "\n",
    "stm.set_allowed_interaction_types([InteractionTypes.Strong])\n",
    "problem_sets = stm.create_problem_sets()\n",
    "result = stm.find_solutions(problem_sets)\n",
    "stm.add_final_state_grouping([[\"pi+\", \"pi-\"], [\"pi-\", \"pi+\"]])\n",
    "len(result.transitions)"
   ]
  },
  {
   "cell_type": "code",
   "execution_count": null,
   "id": "developmental-scientist",
   "metadata": {},
   "outputs": [],
   "source": [
    "dot = es.io.convert_to_dot(result.get_particle_graphs())\n",
    "# dot = es.io.convert_to_dot(result.transitions)\n",
    "graphviz.Source(dot)"
   ]
  },
  {
   "cell_type": "code",
   "execution_count": null,
   "id": "august-dispatch",
   "metadata": {},
   "outputs": [],
   "source": [
    "pdg = es.io.load_pdg()"
   ]
  },
  {
   "cell_type": "code",
   "execution_count": null,
   "id": "catholic-robert",
   "metadata": {},
   "outputs": [],
   "source": [
    "pdg[\"J/psi(1S)\"].isospin"
   ]
  },
  {
   "cell_type": "code",
   "execution_count": null,
   "id": "exotic-fellow",
   "metadata": {},
   "outputs": [],
   "source": [
    "pdg.filter(\n",
    "    lambda p: p.spin == 0\n",
    "    and p.strangeness == 0\n",
    "    and p.charmness == 0\n",
    "    and p.bottomness == 0\n",
    "    and p.topness == 0\n",
    "    and p.baryon_number == 0\n",
    "    and p.mass > 4 * pdg[\"pi0\"].mass\n",
    "    and p.charge == 0\n",
    ").names"
   ]
  }
 ],
 "metadata": {
  "kernelspec": {
   "display_name": "Python 3",
   "language": "python",
   "name": "python3"
  },
  "language_info": {
   "codemirror_mode": {
    "name": "ipython",
    "version": 3
   },
   "file_extension": ".py",
   "mimetype": "text/x-python",
   "name": "python",
   "nbconvert_exporter": "python",
   "pygments_lexer": "ipython3",
   "version": "3.8.5"
  }
 },
 "nbformat": 4,
 "nbformat_minor": 5
}
